{
 "cells": [
  {
   "cell_type": "markdown",
   "metadata": {},
   "source": [
    "# Dynamic Programming - Bouncy Ball Spikes"
   ]
  },
  {
   "cell_type": "markdown",
   "metadata": {},
   "source": [
    "## [Dynamic Programming – 7 Steps to Solve any DP Interview Problem](http://blog.refdash.com/dynamic-programming-tutorial-example/) \n",
    "### Problem statement\n",
    "![Bouncy Ball Race](images/bouncy-ball-race.gif)\n",
    "In this problem, we’re on a crazy jumping ball, trying to stop, while avoiding spikes along the way.\n",
    "### Here are the rules\n",
    "1) You’re given a flat runway with a bunch of spikes in it. The runway is represented by a boolean array which indicates if a particular (discrete) spot is clear of spikes. It is True for clear and False for not clear.\n",
    "\n",
    "![Array representation](images/bouncy-ball-figure-1.jpg)\n",
    "\n",
    "2) You’re given a starting speed S. S is a non-negative integer at any given point and it indicates how much you will move forward with the next jump.\n",
    "\n",
    "3) Every time you land on a spot, you can adjust your speed by up to 1 unit before the next jump.\n",
    "\n",
    "![Bounce speed](images/bouncy-ball-figure-2.jpg)\n",
    "\n",
    "4) You want to safely stop anywhere along the runway (does not need to be at the end of the array). You stop when your speed becomes 0. However, if you land on a spike at any point, your crazy bouncing ball bursts and it’s a game over.\n",
    "\n",
    "The output of your function should be a boolean indicating whether we can safely stop anywhere along the runway."
   ]
  },
  {
   "cell_type": "code",
   "execution_count": null,
   "metadata": {},
   "outputs": [],
   "source": []
  }
 ],
 "metadata": {
  "kernelspec": {
   "display_name": "Python 3",
   "language": "python",
   "name": "python3"
  },
  "language_info": {
   "codemirror_mode": {
    "name": "ipython",
    "version": 3
   },
   "file_extension": ".py",
   "mimetype": "text/x-python",
   "name": "python",
   "nbconvert_exporter": "python",
   "pygments_lexer": "ipython3",
   "version": "3.5.3"
  }
 },
 "nbformat": 4,
 "nbformat_minor": 2
}
