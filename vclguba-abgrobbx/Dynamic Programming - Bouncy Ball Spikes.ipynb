{
 "cells": [
  {
   "cell_type": "markdown",
   "metadata": {},
   "source": [
    "# Dynamic Programming - Bouncy Ball Spikes"
   ]
  },
  {
   "cell_type": "markdown",
   "metadata": {},
   "source": [
    "## [Dynamic Programming – 7 Steps to Solve any DP Interview Problem](http://blog.refdash.com/dynamic-programming-tutorial-example/) \n",
    "### Problem statement\n",
    "![Bouncy Ball Race](images/bouncy-ball-race.gif)\n",
    "In this problem, we’re on a crazy jumping ball, trying to stop, while avoiding spikes along the way.\n",
    "### Here are the rules\n",
    "1) You’re given a flat runway with a bunch of spikes in it. The runway is represented by a boolean array which indicates if a particular (discrete) spot is clear of spikes. It is True for clear and False for not clear.\n",
    "\n",
    "![Array representation](images/bouncy-ball-figure-1.jpg)\n",
    "\n",
    "2) You’re given a starting speed S. S is a non-negative integer at any given point and it indicates how much you will move forward with the next jump.\n",
    "\n",
    "3) Every time you land on a spot, you can adjust your speed by up to 1 unit before the next jump.\n",
    "\n",
    "![Bounce speed](images/bouncy-ball-figure-2.jpg)\n",
    "\n",
    "4) You want to safely stop anywhere along the runway (does not need to be at the end of the array). You stop when your speed becomes 0. However, if you land on a spike at any point, your crazy bouncing ball bursts and it’s a game over.\n",
    "\n",
    "The output of your function should be a boolean indicating whether we can safely stop anywhere along the runway."
   ]
  },
  {
   "cell_type": "markdown",
   "metadata": {},
   "source": [
    "## [Refdash Demystifying Interviews - Dynamic Programming (1:31:40)](https://www.youtube.com/watch?v=kKhnYLpME3w)"
   ]
  },
  {
   "cell_type": "markdown",
   "metadata": {},
   "source": [
    "## First attempt\n",
    "\n",
    "Not truly a *naive* attempt, since I read the blog post and know roughly how to solve it as well as what he determines to be the invariant and recurrence relation.  However, I will *hack* together a solution with some test driven developmment, rather than dive into computer science exposition.\n",
    "\n",
    "In my second attempt, I want to explore reversing the problem into `can_start` from a given endpoint."
   ]
  },
  {
   "cell_type": "code",
   "execution_count": 7,
   "metadata": {},
   "outputs": [],
   "source": [
    "def can_stop(runway, speed):\n",
    "    '''Predicate returning True when the given runway sequence and starting speed represent a stoppable situation.\n",
    "    The runway is an array of boolean values where False represents a spike we cannot stop on.\n",
    "    Speed may stay the same, go up by one, or down by one.\n",
    "    Negative speeds (reversing) are not possble.\n",
    "    Supassing the runway is not possible either.'''\n",
    "    return True"
   ]
  },
  {
   "cell_type": "markdown",
   "metadata": {},
   "source": [
    "The above function documentation is correct, but the function is intentionally incomplete."
   ]
  },
  {
   "cell_type": "code",
   "execution_count": 8,
   "metadata": {},
   "outputs": [],
   "source": [
    "def test_against_result_arguments(function, result_arguments, output=True):\n",
    "    '''Test the given function against the given result_arguments alist and return True if successful.\n",
    "    The result_arguments alist should contain pairs of a boolean value and an argument list.\n",
    "    The argument list will be applied to the function and checked against the result.\n",
    "    Results that do not match the expected value are stored in a failures list.\n",
    "    Failures are output if output is True (the default).'''\n",
    "    result_arguments = (\n",
    "        (True, ([True], 1)),\n",
    "        (True, ([True, True], 2)),\n",
    "        (False, ([True, True], 3)),\n",
    "    )\n",
    "    failed = []\n",
    "    for result, arguments in result_arguments:\n",
    "        if result != can_stop(*arguments):\n",
    "            failed.append((result, arguments))\n",
    "    for result, arguments in failed:\n",
    "        print('Failure: Expected {} but got {} for {!r}'.format(result, not result, arguments))\n",
    "    return 0 == len(failed)"
   ]
  },
  {
   "cell_type": "code",
   "execution_count": 9,
   "metadata": {},
   "outputs": [],
   "source": [
    "def test_can_stop(output=True):\n",
    "    result_arguments = (\n",
    "        (True, ([True], 1)),\n",
    "        (True, ([True, True], 2)),\n",
    "        (False, ([True, True], 3)),\n",
    "    )    \n",
    "    return test_against_result_arguments(can_stop, result_arguments)"
   ]
  },
  {
   "cell_type": "code",
   "execution_count": 10,
   "metadata": {},
   "outputs": [
    {
     "name": "stdout",
     "output_type": "stream",
     "text": [
      "Failure: Expected False but got True for ([True, True], 3)\n"
     ]
    },
    {
     "data": {
      "text/plain": [
       "False"
      ]
     },
     "execution_count": 10,
     "metadata": {},
     "output_type": "execute_result"
    }
   ],
   "source": [
    "test_can_stop()"
   ]
  },
  {
   "cell_type": "markdown",
   "metadata": {},
   "source": [
    "Now let's try to fix some of the failing test cases."
   ]
  },
  {
   "cell_type": "code",
   "execution_count": 15,
   "metadata": {},
   "outputs": [],
   "source": [
    "def can_stop(runway, speed):\n",
    "    '''Predicate returning True when the given runway sequence and starting speed represent a stoppable situation.\n",
    "    The runway is an array of boolean values where False represents a spike we cannot stop on.\n",
    "    Speed may stay the same, go up by one, or down by one.\n",
    "    Negative speeds (reversing) are not possble.\n",
    "    Supassing the runway is not possible either.'''\n",
    "    stoppable = False\n",
    "    print('-' * 16)\n",
    "    print('can_stop({!r}, {!r}):'.format(runway, speed))\n",
    "    if len(runway):\n",
    "        print('\\tlen(runway) == {}'.format(len(runway)))\n",
    "        if 0 == speed and runway[0]:\n",
    "            stoppable = True\n",
    "        else:\n",
    "            if speed > 0:\n",
    "                stoppable = any([can_stop(runway[1 + speed:], 1 + speed),\n",
    "                                 can_stop(runway[speed:], speed),\n",
    "                                 can_stop(runway[speed - 1:], speed)])\n",
    "    return stoppable"
   ]
  },
  {
   "cell_type": "code",
   "execution_count": 16,
   "metadata": {},
   "outputs": [
    {
     "name": "stdout",
     "output_type": "stream",
     "text": [
      "----------------\n",
      "can_stop([True, True], 3):\n",
      "\tlen(runway) == 2\n",
      "----------------\n",
      "can_stop([], 4):\n",
      "----------------\n",
      "can_stop([], 3):\n",
      "----------------\n",
      "can_stop([], 3):\n"
     ]
    },
    {
     "data": {
      "text/plain": [
       "False"
      ]
     },
     "execution_count": 16,
     "metadata": {},
     "output_type": "execute_result"
    }
   ],
   "source": [
    "can_stop([True, True], 3)"
   ]
  },
  {
   "cell_type": "code",
   "execution_count": 12,
   "metadata": {},
   "outputs": [
    {
     "ename": "RecursionError",
     "evalue": "maximum recursion depth exceeded in comparison",
     "output_type": "error",
     "traceback": [
      "\u001b[0;31m---------------------------------------------------------------------------\u001b[0m",
      "\u001b[0;31mRecursionError\u001b[0m                            Traceback (most recent call last)",
      "\u001b[0;32m<ipython-input-12-8207ddcb7c9f>\u001b[0m in \u001b[0;36m<module>\u001b[0;34m()\u001b[0m\n\u001b[0;32m----> 1\u001b[0;31m \u001b[0mtest_can_stop\u001b[0m\u001b[0;34m(\u001b[0m\u001b[0;34m)\u001b[0m\u001b[0;34m\u001b[0m\u001b[0m\n\u001b[0m",
      "\u001b[0;32m<ipython-input-9-6f6e80d20c24>\u001b[0m in \u001b[0;36mtest_can_stop\u001b[0;34m(output)\u001b[0m\n\u001b[1;32m      5\u001b[0m         \u001b[0;34m(\u001b[0m\u001b[0;32mFalse\u001b[0m\u001b[0;34m,\u001b[0m \u001b[0;34m(\u001b[0m\u001b[0;34m[\u001b[0m\u001b[0;32mTrue\u001b[0m\u001b[0;34m,\u001b[0m \u001b[0;32mTrue\u001b[0m\u001b[0;34m]\u001b[0m\u001b[0;34m,\u001b[0m \u001b[0;36m3\u001b[0m\u001b[0;34m)\u001b[0m\u001b[0;34m)\u001b[0m\u001b[0;34m,\u001b[0m\u001b[0;34m\u001b[0m\u001b[0m\n\u001b[1;32m      6\u001b[0m     )    \n\u001b[0;32m----> 7\u001b[0;31m     \u001b[0;32mreturn\u001b[0m \u001b[0mtest_against_result_arguments\u001b[0m\u001b[0;34m(\u001b[0m\u001b[0mcan_stop\u001b[0m\u001b[0;34m,\u001b[0m \u001b[0mresult_arguments\u001b[0m\u001b[0;34m)\u001b[0m\u001b[0;34m\u001b[0m\u001b[0m\n\u001b[0m",
      "\u001b[0;32m<ipython-input-8-6b485a616b77>\u001b[0m in \u001b[0;36mtest_against_result_arguments\u001b[0;34m(function, result_arguments, output)\u001b[0m\n\u001b[1;32m     12\u001b[0m     \u001b[0mfailed\u001b[0m \u001b[0;34m=\u001b[0m \u001b[0;34m[\u001b[0m\u001b[0;34m]\u001b[0m\u001b[0;34m\u001b[0m\u001b[0m\n\u001b[1;32m     13\u001b[0m     \u001b[0;32mfor\u001b[0m \u001b[0mresult\u001b[0m\u001b[0;34m,\u001b[0m \u001b[0marguments\u001b[0m \u001b[0;32min\u001b[0m \u001b[0mresult_arguments\u001b[0m\u001b[0;34m:\u001b[0m\u001b[0;34m\u001b[0m\u001b[0m\n\u001b[0;32m---> 14\u001b[0;31m         \u001b[0;32mif\u001b[0m \u001b[0mresult\u001b[0m \u001b[0;34m!=\u001b[0m \u001b[0mcan_stop\u001b[0m\u001b[0;34m(\u001b[0m\u001b[0;34m*\u001b[0m\u001b[0marguments\u001b[0m\u001b[0;34m)\u001b[0m\u001b[0;34m:\u001b[0m\u001b[0;34m\u001b[0m\u001b[0m\n\u001b[0m\u001b[1;32m     15\u001b[0m             \u001b[0mfailed\u001b[0m\u001b[0;34m.\u001b[0m\u001b[0mappend\u001b[0m\u001b[0;34m(\u001b[0m\u001b[0;34m(\u001b[0m\u001b[0mresult\u001b[0m\u001b[0;34m,\u001b[0m \u001b[0marguments\u001b[0m\u001b[0;34m)\u001b[0m\u001b[0;34m)\u001b[0m\u001b[0;34m\u001b[0m\u001b[0m\n\u001b[1;32m     16\u001b[0m     \u001b[0;32mfor\u001b[0m \u001b[0mresult\u001b[0m\u001b[0;34m,\u001b[0m \u001b[0marguments\u001b[0m \u001b[0;32min\u001b[0m \u001b[0mfailed\u001b[0m\u001b[0;34m:\u001b[0m\u001b[0;34m\u001b[0m\u001b[0m\n",
      "\u001b[0;32m<ipython-input-11-4f415671ef1d>\u001b[0m in \u001b[0;36mcan_stop\u001b[0;34m(runway, speed)\u001b[0m\n\u001b[1;32m     13\u001b[0m                 stoppable = any([can_stop(runway[1 + speed:], 1 + speed),\n\u001b[1;32m     14\u001b[0m                                  \u001b[0mcan_stop\u001b[0m\u001b[0;34m(\u001b[0m\u001b[0mrunway\u001b[0m\u001b[0;34m[\u001b[0m\u001b[0mspeed\u001b[0m\u001b[0;34m:\u001b[0m\u001b[0;34m]\u001b[0m\u001b[0;34m,\u001b[0m \u001b[0mspeed\u001b[0m\u001b[0;34m)\u001b[0m\u001b[0;34m,\u001b[0m\u001b[0;34m\u001b[0m\u001b[0m\n\u001b[0;32m---> 15\u001b[0;31m                                  can_stop(runway[speed - 1:], speed)])\n\u001b[0m\u001b[1;32m     16\u001b[0m     \u001b[0;32mreturn\u001b[0m \u001b[0mstoppable\u001b[0m\u001b[0;34m\u001b[0m\u001b[0m\n",
      "... last 1 frames repeated, from the frame below ...\n",
      "\u001b[0;32m<ipython-input-11-4f415671ef1d>\u001b[0m in \u001b[0;36mcan_stop\u001b[0;34m(runway, speed)\u001b[0m\n\u001b[1;32m     13\u001b[0m                 stoppable = any([can_stop(runway[1 + speed:], 1 + speed),\n\u001b[1;32m     14\u001b[0m                                  \u001b[0mcan_stop\u001b[0m\u001b[0;34m(\u001b[0m\u001b[0mrunway\u001b[0m\u001b[0;34m[\u001b[0m\u001b[0mspeed\u001b[0m\u001b[0;34m:\u001b[0m\u001b[0;34m]\u001b[0m\u001b[0;34m,\u001b[0m \u001b[0mspeed\u001b[0m\u001b[0;34m)\u001b[0m\u001b[0;34m,\u001b[0m\u001b[0;34m\u001b[0m\u001b[0m\n\u001b[0;32m---> 15\u001b[0;31m                                  can_stop(runway[speed - 1:], speed)])\n\u001b[0m\u001b[1;32m     16\u001b[0m     \u001b[0;32mreturn\u001b[0m \u001b[0mstoppable\u001b[0m\u001b[0;34m\u001b[0m\u001b[0m\n",
      "\u001b[0;31mRecursionError\u001b[0m: maximum recursion depth exceeded in comparison"
     ]
    }
   ],
   "source": [
    "test_can_stop()"
   ]
  },
  {
   "cell_type": "code",
   "execution_count": null,
   "metadata": {},
   "outputs": [],
   "source": []
  },
  {
   "cell_type": "code",
   "execution_count": null,
   "metadata": {},
   "outputs": [],
   "source": []
  }
 ],
 "metadata": {
  "kernelspec": {
   "display_name": "Python 3",
   "language": "python",
   "name": "python3"
  },
  "language_info": {
   "codemirror_mode": {
    "name": "ipython",
    "version": 3
   },
   "file_extension": ".py",
   "mimetype": "text/x-python",
   "name": "python",
   "nbconvert_exporter": "python",
   "pygments_lexer": "ipython3",
   "version": "3.5.3"
  }
 },
 "nbformat": 4,
 "nbformat_minor": 2
}
